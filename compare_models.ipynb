{
 "cells": [
  {
   "cell_type": "markdown",
   "id": "3f9f562e-f7e5-40f9-9c08-7ec14d8f4415",
   "metadata": {},
   "source": [
    "# Compare Model Performance"
   ]
  },
  {
   "cell_type": "code",
   "execution_count": 1,
   "id": "2e633e04-3187-4d22-9aa6-b2fbd4fb68de",
   "metadata": {},
   "outputs": [],
   "source": [
    "%%capture\n",
    "import sys, os\n",
    "cwd = os.getcwd()\n",
    "os.chdir(cwd+\"/common\")\n",
    "!python3 -m atari_py.import_roms ../Roms"
   ]
  },
  {
   "cell_type": "code",
   "execution_count": 2,
   "id": "2ea8cddb-b683-4746-9813-1c46ddeace79",
   "metadata": {},
   "outputs": [
    {
     "name": "stderr",
     "output_type": "stream",
     "text": [
      "/home/zhanghao/.local/lib/python3.8/site-packages/ale_py/roms/__init__.py:94: DeprecationWarning: Automatic importing of atari-py roms won't be supported in future releases of ale-py. Please migrate over to using `ale-import-roms` OR an ALE-supported ROM package. To make this warning disappear you can run `ale-import-roms --import-from-pkg atari_py.atari_roms`.For more information see: https://github.com/mgbellemare/Arcade-Learning-Environment#rom-management\n",
      "  _RESOLVED_ROMS = _resolve_roms()\n"
     ]
    }
   ],
   "source": [
    "import torch\n",
    "import torch.nn as nn\n",
    "import torch.optim as optim\n",
    "import torch.autograd as autograd \n",
    "import torch.nn.functional as F\n",
    "import gym\n",
    "import numpy as np\n",
    "import math, random\n",
    "from wrappers import make_atari, wrap_deepmind, wrap_pytorch\n",
    "from model import CnnDQN\n",
    "import matplotlib.pyplot as plt\n",
    "from pyvirtualdisplay import Display\n",
    "display = Display(visible=0, size=(1400, 900))\n",
    "display.start()\n",
    "import time\n",
    "import matplotlib.pyplot as plt\n",
    "\n"
   ]
  },
  {
   "cell_type": "code",
   "execution_count": 3,
   "id": "b1ea7b06-d637-43b7-98a6-4a6af2c92771",
   "metadata": {},
   "outputs": [],
   "source": [
    "\n",
    "\n",
    "is_ipython = 'inline' in plt.get_backend()\n",
    "if is_ipython:\n",
    "    from IPython import display\n",
    "\n",
    "plt.ion()\n",
    "\n",
    "%matplotlib inline\n",
    "\n",
    "def test_model(path):\n",
    "    \n",
    "    env_id = \"Breakout-v4\"\n",
    "    env = wrap_deepmind(gym.make(env_id))\n",
    "    env = wrap_pytorch(env)\n",
    "    \n",
    "    model = CnnDQN(env.action_space.n)\n",
    "    if torch.cuda.is_available():\n",
    "        model = model.cuda()\n",
    "    model.load_state_dict(torch.load(path))\n",
    "\n",
    "    state = env.reset()\n",
    "    img = plt.imshow(env.render(mode='rgb_array'))\n",
    "\n",
    "    frame_queue = [np.squeeze(np.array(state),axis = 0)]\n",
    "    total_reward = 0\n",
    "    for i in range(10000000):\n",
    "\n",
    "        if len(frame_queue)!=4:\n",
    "            action = random.choice(range(4))\n",
    "            next_state, reward, done, _ = env.step(action)\n",
    "            frame_queue.append(np.squeeze(np.array(next_state),axis = 0))\n",
    "        else:\n",
    "            state_4frames = np.array([frame_queue[0],frame_queue[1],frame_queue[2],frame_queue[3]])\n",
    "            action = model.eval(state_4frames)\n",
    "            next_state, reward, done, _ = env.step(action)\n",
    "            frame_queue.pop(0)\n",
    "            frame_queue.append(np.squeeze(np.array(next_state),axis = 0))\n",
    "\n",
    "        total_reward += reward\n",
    "\n",
    "\n",
    "        img.set_data(env.render(mode='rgb_array')) \n",
    "        plt.axis('off')\n",
    "        display.display(plt.gcf())\n",
    "        display.clear_output(wait=True)\n",
    "        # state, reward, done, _ = env.step(action.cpu().item())\n",
    "        time.sleep(0.05)\n",
    "        if done:\n",
    "            print(\"Total Frames: \"+str(i))\n",
    "            print(\"Total Reward: \"+str(total_reward))\n",
    "            break \n",
    "    \n",
    "    env.close()\n",
    "\n",
    "        \n"
   ]
  },
  {
   "cell_type": "markdown",
   "id": "81c1f3f8-ff3a-4b71-bb91-b35219c3b2c4",
   "metadata": {},
   "source": [
    "## Basic DQN"
   ]
  },
  {
   "cell_type": "code",
   "execution_count": 4,
   "id": "496068f2-ba25-4fb0-b7fe-0c44833b14fd",
   "metadata": {},
   "outputs": [
    {
     "name": "stdout",
     "output_type": "stream",
     "text": [
      "Total Frames: 110\n",
      "Total Reward: 2.0\n"
     ]
    },
    {
     "data": {
      "image/png": "[encoded data removed]",
      "text/plain": [
       "<Figure size 432x288 with 1 Axes>"
      ]
     },
     "metadata": {
      "needs_background": "light"
     },
     "output_type": "display_data"
    }
   ],
   "source": [
    "test_model(cwd+\"/models/dqn.pt\")"
   ]
  },
  {
   "cell_type": "markdown",
   "id": "dd08b36e-29b7-47ec-8bfd-72f6044e07db",
   "metadata": {},
   "source": [
    "## DDQN"
   ]
  },
  {
   "cell_type": "code",
   "execution_count": 10,
   "id": "7374eaea-2de3-4970-abee-4c74a69f8189",
   "metadata": {},
   "outputs": [
    {
     "name": "stdout",
     "output_type": "stream",
     "text": [
      "Total Frames: 31\n",
      "Total Reward: 0.0\n"
     ]
    },
    {
     "data": {
      "image/png": "[encoded data removed]",
      "text/plain": [
       "<Figure size 432x288 with 1 Axes>"
      ]
     },
     "metadata": {
      "needs_background": "light"
     },
     "output_type": "display_data"
    }
   ],
   "source": [
    "test_model(cwd+\"/models/ddqn.pt\")"
   ]
  },
  {
   "cell_type": "markdown",
   "id": "fa08561b-f13c-4042-b839-c94a2340299d",
   "metadata": {},
   "source": [
    "## Pioritized Replay Buffer"
   ]
  },
  {
   "cell_type": "code",
   "execution_count": 9,
   "id": "ec0a7053-ac68-45a2-b858-5fed9c171b5b",
   "metadata": {},
   "outputs": [
    {
     "name": "stdout",
     "output_type": "stream",
     "text": [
      "Total Frames: 27\n",
      "Total Reward: 0.0\n"
     ]
    },
    {
     "data": {
      "image/png": "[encoded data removed]",
      "text/plain": [
       "<Figure size 432x288 with 1 Axes>"
      ]
     },
     "metadata": {
      "needs_background": "light"
     },
     "output_type": "display_data"
    }
   ],
   "source": [
    "test_model(cwd+\"/models/dqn_per.pt\")"
   ]
  },
  {
   "cell_type": "code",
   "execution_count": null,
   "id": "e19ed809-7dff-4634-b01c-d51c3c242bc5",
   "metadata": {},
   "outputs": [],
   "source": []
  }
 ],
 "metadata": {
  "kernelspec": {
   "display_name": "Python 3 (ipykernel)",
   "language": "python",
   "name": "python3"
  },
  "language_info": {
   "codemirror_mode": {
    "name": "ipython",
    "version": 3
   },
   "file_extension": ".py",
   "mimetype": "text/x-python",
   "name": "python",
   "nbconvert_exporter": "python",
   "pygments_lexer": "ipython3",
   "version": "3.8.10"
  }
 },
 "nbformat": 4,
 "nbformat_minor": 5
}
