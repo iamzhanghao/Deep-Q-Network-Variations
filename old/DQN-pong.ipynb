{
 "cells": [
  {
   "cell_type": "markdown",
   "metadata": {
    "id": "uLh01fa98nLm"
   },
   "source": [
    "# DQN"
   ]
  },
  {
   "cell_type": "markdown",
   "metadata": {
    "id": "UHrDDpZB8qO-"
   },
   "source": [
    "## libraries and data"
   ]
  },
  {
   "cell_type": "code",
   "execution_count": 1,
   "metadata": {
    "colab": {
     "base_uri": "https://localhost:8080/"
    },
    "id": "aXHw7v1flSz3",
    "outputId": "16b5f3c1-a9bc-4a58-80ce-e377dd430814"
   },
   "outputs": [],
   "source": [
    "import sys, os\n",
    "cwd = os.getcwd()"
   ]
  },
  {
   "cell_type": "code",
   "execution_count": 2,
   "metadata": {
    "colab": {
     "base_uri": "https://localhost:8080/"
    },
    "id": "wZgVb4PEqmP-",
    "outputId": "20da6ecf-dcdb-48e3-d027-c8c3fe0ef573"
   },
   "outputs": [],
   "source": [
    "# %%capture\n",
    "os.chdir(cwd+\"/common\")\n",
    "!python3 -m atari_py.import_roms ../Roms\n",
    "# !pip install gym pyvirtualdisplay > /dev/null 2>&1\n",
    "# !apt-get install -y xvfb python-opengl ffmpeg > /dev/null 2>&1"
   ]
  },
  {
   "cell_type": "markdown",
   "metadata": {
    "id": "wYeVlvm881op"
   },
   "source": [
    "## Algorithm"
   ]
  },
  {
   "cell_type": "code",
   "execution_count": 3,
   "metadata": {
    "id": "F3B9ndT-9BNM"
   },
   "outputs": [
    {
     "name": "stderr",
     "output_type": "stream",
     "text": [
      "/home/zhanghao/.local/lib/python3.8/site-packages/ale_py/roms/__init__.py:94: DeprecationWarning: Automatic importing of atari-py roms won't be supported in future releases of ale-py. Please migrate over to using `ale-import-roms` OR an ALE-supported ROM package. To make this warning disappear you can run `ale-import-roms --import-from-pkg atari_py.atari_roms`.For more information see: https://github.com/mgbellemare/Arcade-Learning-Environment#rom-management\n",
      "  _RESOLVED_ROMS = _resolve_roms()\n"
     ]
    }
   ],
   "source": [
    "import torch\n",
    "import torch.nn as nn\n",
    "import torch.optim as optim\n",
    "import torch.autograd as autograd \n",
    "import torch.nn.functional as F\n",
    "\n",
    "import gym\n",
    "import numpy as np\n",
    "\n",
    "import math, random\n",
    "from wrappers import make_atari, wrap_deepmind, wrap_pytorch"
   ]
  },
  {
   "cell_type": "code",
   "execution_count": 4,
   "metadata": {
    "id": "WVKwL5bxu5yr"
   },
   "outputs": [],
   "source": [
    "from IPython.display import clear_output\n",
    "import matplotlib.pyplot as plt\n",
    "%matplotlib inline"
   ]
  },
  {
   "cell_type": "markdown",
   "metadata": {
    "id": "gu_qMFQG9yWa"
   },
   "source": [
    "### Environment and parameter"
   ]
  },
  {
   "cell_type": "code",
   "execution_count": 5,
   "metadata": {
    "id": "n061d1dk92nq"
   },
   "outputs": [
    {
     "name": "stderr",
     "output_type": "stream",
     "text": [
      "/home/zhanghao/.local/lib/python3.8/site-packages/gym/envs/registration.py:505: UserWarning: \u001b[33mWARN: The environment Pong-v4 is out of date. You should consider upgrading to version `v5` with the environment ID `ALE/Pong-v5`.\u001b[0m\n",
      "  logger.warn(\n",
      "A.L.E: Arcade Learning Environment (version 0.7.4+069f8bd)\n",
      "[Powered by Stella]\n",
      "/home/zhanghao/.local/lib/python3.8/site-packages/gym/utils/seeding.py:138: DeprecationWarning: \u001b[33mWARN: Function `hash_seed(seed, max_bytes)` is marked as deprecated and will be removed in the future. \u001b[0m\n",
      "  deprecation(\n",
      "/home/zhanghao/.local/lib/python3.8/site-packages/gym/utils/seeding.py:175: DeprecationWarning: \u001b[33mWARN: Function `_bigint_from_bytes(bytes)` is marked as deprecated and will be removed in the future. \u001b[0m\n",
      "  deprecation(\n"
     ]
    }
   ],
   "source": [
    "seed = 5446\n",
    "device = torch.device(\"cuda\" if torch.cuda.is_available() else \"cpu\")\n",
    "torch.cuda.manual_seed_all(seed)\n",
    "\n",
    "env_id = \"Pong-v4\"\n",
    "env = gym.make(env_id)\n",
    "env = wrap_deepmind(env)\n",
    "env = wrap_pytorch(env)\n",
    "\n",
    "epsilon_start = 1.0\n",
    "epsilon_final = 0.01\n",
    "epsilon_decay = 1500000\n",
    "replay_initial = 100000\n",
    "epsilon_by_frame = lambda frame_idx: epsilon_final + (epsilon_start - epsilon_final) * math.exp(-1. * frame_idx / epsilon_decay)\n",
    "\n",
    "num_frames = 10000000\n",
    "batch_size = 128\n",
    "gamma      = 0.99\n"
   ]
  },
  {
   "cell_type": "markdown",
   "metadata": {
    "id": "Bq_j3y5h0xIh"
   },
   "source": [
    "### display epsilon over training"
   ]
  },
  {
   "cell_type": "code",
   "execution_count": 6,
   "metadata": {
    "colab": {
     "base_uri": "https://localhost:8080/",
     "height": 296
    },
    "id": "CV4bmiM10uyW",
    "outputId": "311e2741-a325-4ed2-a01f-84cc8b7c8c0a"
   },
   "outputs": [
    {
     "data": {
      "text/plain": [
       "[<matplotlib.lines.Line2D at 0x7ff1253cb700>]"
      ]
     },
     "execution_count": 6,
     "metadata": {},
     "output_type": "execute_result"
    },
    {
     "data": {
      "image/png": "[encoded data removed]",
      "text/plain": [
       "<Figure size 432x288 with 1 Axes>"
      ]
     },
     "metadata": {
      "needs_background": "light"
     },
     "output_type": "display_data"
    }
   ],
   "source": [
    "plt.plot([epsilon_by_frame(i) for i in range(num_frames)])"
   ]
  },
  {
   "cell_type": "code",
   "execution_count": 7,
   "metadata": {
    "id": "wVEFntTow1kr"
   },
   "outputs": [
    {
     "name": "stderr",
     "output_type": "stream",
     "text": [
      "/home/zhanghao/Projects/Deep-Q-Network-Variations/model.py:12: UserWarning: nn.init.xavier_uniform is now deprecated in favor of nn.init.xavier_uniform_.\n",
      "  torch.nn.init.xavier_uniform(m.weight)\n"
     ]
    }
   ],
   "source": [
    "from model import CnnDQN\n",
    "from buffers import ReplayBuffer\n",
    "\n",
    "model = CnnDQN(env.action_space.n)\n",
    "\n",
    "if torch.cuda.is_available():\n",
    "    model = model.cuda()\n",
    "    \n",
    "optimizer = optim.Adam(model.parameters(), lr=0.002)\n",
    "\n",
    "\n",
    "replay_buffer = ReplayBuffer(replay_initial)"
   ]
  },
  {
   "cell_type": "markdown",
   "metadata": {
    "id": "k9B72S7ZAPiQ"
   },
   "source": [
    "### Compute Loss"
   ]
  },
  {
   "cell_type": "code",
   "execution_count": 8,
   "metadata": {
    "id": "eskyEjwVAR08"
   },
   "outputs": [],
   "source": [
    "def compute_td_loss(batch_size):\n",
    "    state, action, reward, next_state, done = replay_buffer.sample(batch_size)\n",
    "\n",
    "    state      = torch.FloatTensor(np.float32(state)).to(device)\n",
    "    next_state = torch.FloatTensor(np.float32(next_state)).to(device)\n",
    "    action     = torch.LongTensor(action).to(device)\n",
    "    reward     = torch.FloatTensor(reward).to(device)\n",
    "    done       = torch.FloatTensor(done).to(device)\n",
    "\n",
    "    q_values      = model(state)\n",
    "    next_q_values = model(next_state)\n",
    "\n",
    "    q_value          = q_values.gather(1, action.unsqueeze(1)).squeeze(1)\n",
    "    next_q_value     = next_q_values.max(1)[0]\n",
    "    expected_q_value = reward + gamma * next_q_value  * (1 - done)\n",
    "    \n",
    "    loss = (q_value - expected_q_value.data).pow(2).mean()\n",
    "        \n",
    "    optimizer.zero_grad()\n",
    "    loss.backward()\n",
    "    optimizer.step()\n",
    "    \n",
    "    return loss"
   ]
  },
  {
   "cell_type": "markdown",
   "metadata": {
    "id": "gic0yt6x1JS3"
   },
   "source": [
    "### plot function"
   ]
  },
  {
   "cell_type": "code",
   "execution_count": 9,
   "metadata": {
    "id": "eYV2OqFK1LAf"
   },
   "outputs": [],
   "source": [
    "def plot(frame_idx, rewards, losses):\n",
    "    clear_output(True)\n",
    "    plt.figure(figsize=(20,5))\n",
    "    plt.subplot(131)\n",
    "    plt.title('frame %s. reward: %s' % (frame_idx, np.mean(rewards[-10:])))\n",
    "    plt.plot(rewards)\n",
    "    plt.subplot(132)\n",
    "    plt.title('loss')\n",
    "    plt.plot(losses)\n",
    "    plt.show()"
   ]
  },
  {
   "cell_type": "markdown",
   "metadata": {
    "id": "n3tE0WN3NZgF"
   },
   "source": [
    "### training"
   ]
  },
  {
   "cell_type": "code",
   "execution_count": 10,
   "metadata": {
    "colab": {
     "base_uri": "https://localhost:8080/",
     "height": 336
    },
    "id": "MiCjpQdkNbOA",
    "outputId": "205738be-3cd0-465f-a0f7-bb900ede5e3e"
   },
   "outputs": [
    {
     "data": {
      "image/png": "[encoded data removed]",
      "text/plain": [
       "<Figure size 1440x360 with 2 Axes>"
      ]
     },
     "metadata": {
      "needs_background": "light"
     },
     "output_type": "display_data"
    },
    {
     "name": "stdout",
     "output_type": "stream",
     "text": [
      "-14.0\n"
     ]
    },
    {
     "ename": "KeyboardInterrupt",
     "evalue": "",
     "output_type": "error",
     "traceback": [
      "\u001b[0;31m---------------------------------------------------------------------------\u001b[0m",
      "\u001b[0;31mKeyboardInterrupt\u001b[0m                         Traceback (most recent call last)",
      "Input \u001b[0;32mIn [10]\u001b[0m, in \u001b[0;36m<cell line: 11>\u001b[0;34m()\u001b[0m\n\u001b[1;32m     49\u001b[0m     reward_queue \u001b[38;5;241m=\u001b[39m [\u001b[38;5;241m0\u001b[39m]\n\u001b[1;32m     52\u001b[0m \u001b[38;5;28;01mif\u001b[39;00m \u001b[38;5;28mlen\u001b[39m(replay_buffer) \u001b[38;5;241m>\u001b[39m\u001b[38;5;241m=\u001b[39m replay_initial:\n\u001b[0;32m---> 53\u001b[0m     loss \u001b[38;5;241m=\u001b[39m \u001b[43mcompute_td_loss\u001b[49m\u001b[43m(\u001b[49m\u001b[43mbatch_size\u001b[49m\u001b[43m)\u001b[49m\n\u001b[1;32m     54\u001b[0m     losses\u001b[38;5;241m.\u001b[39mappend(loss\u001b[38;5;241m.\u001b[39mitem())\n\u001b[1;32m     56\u001b[0m \u001b[38;5;28;01mif\u001b[39;00m frame_idx \u001b[38;5;241m%\u001b[39m \u001b[38;5;241m10000\u001b[39m \u001b[38;5;241m==\u001b[39m \u001b[38;5;241m0\u001b[39m:\n",
      "Input \u001b[0;32mIn [8]\u001b[0m, in \u001b[0;36mcompute_td_loss\u001b[0;34m(batch_size)\u001b[0m\n\u001b[1;32m      1\u001b[0m \u001b[38;5;28;01mdef\u001b[39;00m \u001b[38;5;21mcompute_td_loss\u001b[39m(batch_size):\n\u001b[0;32m----> 2\u001b[0m     state, action, reward, next_state, done \u001b[38;5;241m=\u001b[39m \u001b[43mreplay_buffer\u001b[49m\u001b[38;5;241;43m.\u001b[39;49m\u001b[43msample\u001b[49m\u001b[43m(\u001b[49m\u001b[43mbatch_size\u001b[49m\u001b[43m)\u001b[49m\n\u001b[1;32m      4\u001b[0m     state      \u001b[38;5;241m=\u001b[39m torch\u001b[38;5;241m.\u001b[39mFloatTensor(np\u001b[38;5;241m.\u001b[39mfloat32(state))\u001b[38;5;241m.\u001b[39mto(device)\n\u001b[1;32m      5\u001b[0m     next_state \u001b[38;5;241m=\u001b[39m torch\u001b[38;5;241m.\u001b[39mFloatTensor(np\u001b[38;5;241m.\u001b[39mfloat32(next_state))\u001b[38;5;241m.\u001b[39mto(device)\n",
      "File \u001b[0;32m~/Projects/Deep-Q-Network-Variations/buffers.py:229\u001b[0m, in \u001b[0;36mReplayBuffer.sample\u001b[0;34m(self, batch_size)\u001b[0m\n\u001b[1;32m    209\u001b[0m \u001b[38;5;124;03m\"\"\"Sample a batch of experiences.\u001b[39;00m\n\u001b[1;32m    210\u001b[0m \u001b[38;5;124;03mParameters\u001b[39;00m\n\u001b[1;32m    211\u001b[0m \u001b[38;5;124;03m----------\u001b[39;00m\n\u001b[0;32m   (...)\u001b[0m\n\u001b[1;32m    226\u001b[0m \u001b[38;5;124;03m    the end of an episode and 0 otherwise.\u001b[39;00m\n\u001b[1;32m    227\u001b[0m \u001b[38;5;124;03m\"\"\"\u001b[39;00m\n\u001b[1;32m    228\u001b[0m idxes \u001b[38;5;241m=\u001b[39m [random\u001b[38;5;241m.\u001b[39mrandint(\u001b[38;5;241m0\u001b[39m, \u001b[38;5;28mlen\u001b[39m(\u001b[38;5;28mself\u001b[39m\u001b[38;5;241m.\u001b[39m_storage) \u001b[38;5;241m-\u001b[39m \u001b[38;5;241m1\u001b[39m) \u001b[38;5;28;01mfor\u001b[39;00m _ \u001b[38;5;129;01min\u001b[39;00m \u001b[38;5;28mrange\u001b[39m(batch_size)]\n\u001b[0;32m--> 229\u001b[0m \u001b[38;5;28;01mreturn\u001b[39;00m \u001b[38;5;28;43mself\u001b[39;49m\u001b[38;5;241;43m.\u001b[39;49m\u001b[43m_encode_sample\u001b[49m\u001b[43m(\u001b[49m\u001b[43midxes\u001b[49m\u001b[43m)\u001b[49m\n",
      "File \u001b[0;32m~/Projects/Deep-Q-Network-Variations/buffers.py:186\u001b[0m, in \u001b[0;36mReplayBuffer._encode_sample\u001b[0;34m(self, idxes)\u001b[0m\n\u001b[1;32m    184\u001b[0m     actions\u001b[38;5;241m.\u001b[39mappend(np\u001b[38;5;241m.\u001b[39marray(action, copy\u001b[38;5;241m=\u001b[39m\u001b[38;5;28;01mFalse\u001b[39;00m))\n\u001b[1;32m    185\u001b[0m \u001b[38;5;28;01melse\u001b[39;00m:\n\u001b[0;32m--> 186\u001b[0m     actions\u001b[38;5;241m.\u001b[39mappend(np\u001b[38;5;241m.\u001b[39marray(\u001b[43maction\u001b[49m\u001b[38;5;241;43m.\u001b[39;49m\u001b[43mcpu\u001b[49m\u001b[43m(\u001b[49m\u001b[43m)\u001b[49m, copy\u001b[38;5;241m=\u001b[39m\u001b[38;5;28;01mTrue\u001b[39;00m))\n\u001b[1;32m    188\u001b[0m \u001b[38;5;66;03m# print(type(reward))\u001b[39;00m\n\u001b[1;32m    189\u001b[0m \u001b[38;5;28;01mif\u001b[39;00m \u001b[38;5;129;01mnot\u001b[39;00m \u001b[38;5;28misinstance\u001b[39m(reward,torch\u001b[38;5;241m.\u001b[39mTensor):\n",
      "\u001b[0;31mKeyboardInterrupt\u001b[0m: "
     ]
    }
   ],
   "source": [
    "losses = []\n",
    "all_rewards = []\n",
    "episode_reward = 0\n",
    "\n",
    "state = env.reset()\n",
    "print(state.shape)\n",
    "# img = plt.imshow(env.render(mode='rgb_array'))\n",
    "\n",
    "frame_queue = [np.squeeze(np.array(state),axis = 0)]\n",
    "reward_queue = [0]\n",
    "for frame_idx in range(1, num_frames + 1):\n",
    "    \n",
    "    if frame_idx<= replay_initial:\n",
    "        epsilon = 1\n",
    "    else:\n",
    "        epsilon = epsilon_by_frame(frame_idx-replay_initial)\n",
    "\n",
    "    if len(frame_queue)!=4:\n",
    "        action = random.choice(range(4))\n",
    "        next_state, reward, done, _ = env.step(action)\n",
    "        frame_queue.append(np.squeeze(np.array(next_state),axis = 0))\n",
    "        reward_queue.append(reward)\n",
    "    else:\n",
    "        state_4frames = np.array([frame_queue[0],frame_queue[1],frame_queue[2],frame_queue[3]])\n",
    "        if frame_idx<=replay_initial:\n",
    "            action = random.choice(range(4))\n",
    "        else:\n",
    "            action = model.act(state_4frames, epsilon)\n",
    "        next_state, reward, done, _ = env.step(action)\n",
    "        reward_4frames = sum(reward_queue)\n",
    "        frame_queue.pop(0)\n",
    "        reward_queue.pop(0)\n",
    "        frame_queue.append(np.squeeze(np.array(next_state),axis = 0))\n",
    "        reward_queue.append(reward)\n",
    "        next_state_4frames = np.array([frame_queue[0],frame_queue[1],frame_queue[2],frame_queue[3]])\n",
    "        replay_buffer.push(state_4frames, action, reward_4frames, next_state_4frames, done)\n",
    "        \n",
    "        # print(state_4frames.shape)\n",
    "        \n",
    "\n",
    "    state = next_state\n",
    "    episode_reward += reward\n",
    "    \n",
    "    if done:\n",
    "        state = env.reset()\n",
    "        all_rewards.append(episode_reward)\n",
    "        episode_reward = 0\n",
    "        frame_queue = [np.squeeze(np.array(state),axis = 0)]\n",
    "        reward_queue = [0]\n",
    "        \n",
    "        \n",
    "    if len(replay_buffer) >= replay_initial:\n",
    "        loss = compute_td_loss(batch_size)\n",
    "        losses.append(loss.item())\n",
    "        \n",
    "    if frame_idx % 10000 == 0:\n",
    "        plot(frame_idx, all_rewards, losses)\n",
    "        print(max(all_rewards))\n",
    "        \n",
    "    if frame_idx % 1000000 == 0:\n",
    "        \n",
    "        torch.save(model.state_dict(),cwd+\"/models/dqn_pong.pt\")\n",
    "        np.save(cwd+\"/training_data/dqn_pong_reward.npy\", np.array(all_rewards))\n",
    "        np.save(cwd+\"/training_data/dqn_pong_loss.npy\", np.array(losses))\n",
    "\n",
    "\n"
   ]
  },
  {
   "cell_type": "markdown",
   "metadata": {
    "id": "AJkgBGuNQUMd"
   },
   "source": [
    "### Save Model"
   ]
  },
  {
   "cell_type": "code",
   "execution_count": null,
   "metadata": {
    "id": "UhUme5_sOYXK"
   },
   "outputs": [],
   "source": [
    "torch.save(model.state_dict(),cwd+\"/models/dqn_pong.pt\")\n",
    "np.save(cwd+\"/training_data/dqn_pong_reward.npy\", np.array(all_rewards))\n",
    "np.save(cwd+\"/training_data/dqn_pong_loss.npy\", np.array(losses))"
   ]
  },
  {
   "cell_type": "code",
   "execution_count": null,
   "metadata": {},
   "outputs": [],
   "source": []
  }
 ],
 "metadata": {
  "accelerator": "GPU",
  "colab": {
   "collapsed_sections": [],
   "name": "basicDQN.ipynb",
   "provenance": []
  },
  "kernelspec": {
   "display_name": "Python 3 (ipykernel)",
   "language": "python",
   "name": "python3"
  },
  "language_info": {
   "codemirror_mode": {
    "name": "ipython",
    "version": 3
   },
   "file_extension": ".py",
   "mimetype": "text/x-python",
   "name": "python",
   "nbconvert_exporter": "python",
   "pygments_lexer": "ipython3",
   "version": "3.8.10"
  }
 },
 "nbformat": 4,
 "nbformat_minor": 4
}
