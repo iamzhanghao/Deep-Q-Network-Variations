{
 "cells": [
  {
   "cell_type": "markdown",
   "metadata": {
    "id": "uLh01fa98nLm"
   },
   "source": [
    "# DQN All"
   ]
  },
  {
   "cell_type": "markdown",
   "metadata": {
    "id": "UHrDDpZB8qO-"
   },
   "source": [
    "## libraries and data"
   ]
  },
  {
   "cell_type": "code",
   "execution_count": 1,
   "metadata": {
    "colab": {
     "base_uri": "https://localhost:8080/"
    },
    "id": "aXHw7v1flSz3",
    "outputId": "16b5f3c1-a9bc-4a58-80ce-e377dd430814"
   },
   "outputs": [],
   "source": [
    "import sys, os\n",
    "cwd = os.getcwd()"
   ]
  },
  {
   "cell_type": "code",
   "execution_count": 2,
   "metadata": {
    "colab": {
     "base_uri": "https://localhost:8080/"
    },
    "id": "wZgVb4PEqmP-",
    "outputId": "20da6ecf-dcdb-48e3-d027-c8c3fe0ef573"
   },
   "outputs": [],
   "source": [
    "%%capture\n",
    "os.chdir(cwd+\"/common\")\n",
    "!python3 -m atari_py.import_roms ../Roms\n",
    "# !pip install gym pyvirtualdisplay > /dev/null 2>&1\n",
    "# !apt-get install -y xvfb python-opengl ffmpeg > /dev/null 2>&1"
   ]
  },
  {
   "cell_type": "markdown",
   "metadata": {
    "id": "wYeVlvm881op"
   },
   "source": [
    "## Algorithm"
   ]
  },
  {
   "cell_type": "code",
   "execution_count": 3,
   "metadata": {
    "id": "F3B9ndT-9BNM"
   },
   "outputs": [
    {
     "name": "stderr",
     "output_type": "stream",
     "text": [
      "/home/zhanghao/.local/lib/python3.8/site-packages/ale_py/roms/__init__.py:94: DeprecationWarning: Automatic importing of atari-py roms won't be supported in future releases of ale-py. Please migrate over to using `ale-import-roms` OR an ALE-supported ROM package. To make this warning disappear you can run `ale-import-roms --import-from-pkg atari_py.atari_roms`.For more information see: https://github.com/mgbellemare/Arcade-Learning-Environment#rom-management\n",
      "  _RESOLVED_ROMS = _resolve_roms()\n"
     ]
    }
   ],
   "source": [
    "import torch\n",
    "import torch.nn as nn\n",
    "import torch.optim as optim\n",
    "import torch.autograd as autograd \n",
    "import torch.nn.functional as F\n",
    "\n",
    "import gym\n",
    "import numpy as np\n",
    "\n",
    "import math, random\n",
    "from wrappers import make_atari, wrap_deepmind, wrap_pytorch\n",
    "\n",
    "from model import CnnDQNCrop, ConvDuelingDQN\n",
    "from buffers import ReplayBuffer, PrioritizedReplayBuffer\n",
    "from utils import crop_breakout"
   ]
  },
  {
   "cell_type": "code",
   "execution_count": 4,
   "metadata": {
    "id": "WVKwL5bxu5yr"
   },
   "outputs": [],
   "source": [
    "from IPython.display import clear_output\n",
    "import matplotlib.pyplot as plt\n",
    "%matplotlib inline"
   ]
  },
  {
   "cell_type": "markdown",
   "metadata": {
    "id": "gu_qMFQG9yWa"
   },
   "source": [
    "### Environment and parameter"
   ]
  },
  {
   "cell_type": "code",
   "execution_count": 5,
   "metadata": {
    "id": "n061d1dk92nq"
   },
   "outputs": [
    {
     "name": "stderr",
     "output_type": "stream",
     "text": [
      "/home/zhanghao/.local/lib/python3.8/site-packages/gym/envs/registration.py:505: UserWarning: \u001b[33mWARN: The environment Breakout-v4 is out of date. You should consider upgrading to version `v5` with the environment ID `ALE/Breakout-v5`.\u001b[0m\n",
      "  logger.warn(\n",
      "A.L.E: Arcade Learning Environment (version 0.7.4+069f8bd)\n",
      "[Powered by Stella]\n",
      "/home/zhanghao/.local/lib/python3.8/site-packages/gym/utils/seeding.py:138: DeprecationWarning: \u001b[33mWARN: Function `hash_seed(seed, max_bytes)` is marked as deprecated and will be removed in the future. \u001b[0m\n",
      "  deprecation(\n",
      "/home/zhanghao/.local/lib/python3.8/site-packages/gym/utils/seeding.py:175: DeprecationWarning: \u001b[33mWARN: Function `_bigint_from_bytes(bytes)` is marked as deprecated and will be removed in the future. \u001b[0m\n",
      "  deprecation(\n"
     ]
    }
   ],
   "source": [
    "seed = 5446\n",
    "device = torch.device(\"cuda\" if torch.cuda.is_available() else \"cpu\")\n",
    "torch.cuda.manual_seed_all(seed)\n",
    "\n",
    "env_id = \"Breakout-v4\"\n",
    "env = gym.make(env_id)\n",
    "env = wrap_deepmind(env)\n",
    "env = wrap_pytorch(env)\n",
    "\n",
    "epsilon_start = 1.0\n",
    "epsilon_final = 0.05\n",
    "epsilon_decay = 500000\n",
    "epsilon_by_frame = lambda frame_idx: epsilon_final + (epsilon_start - epsilon_final) * math.exp(-1. * frame_idx / epsilon_decay)\n",
    "\n",
    "num_frames = 3000000\n",
    "batch_size = 32\n",
    "gamma      = 0.99\n",
    "\n",
    "replay_initial = 100000\n",
    "replay_buffer = PrioritizedReplayBuffer(replay_initial,0.5)\n",
    "\n",
    "def get_epsilon(frame_idx):\n",
    "    if frame_idx >= replay_initial:\n",
    "        epsilon = epsilon_by_frame(frame_idx-replay_initial)\n",
    "    else:\n",
    "        epsilon = 1\n",
    "    return epsilon\n",
    "\n",
    "\n",
    "beta_start = 0.3\n",
    "beta_final = 0.001\n",
    "beta_decay = 500000\n",
    "beta_by_frame = lambda frame_idx: beta_final + (beta_start - beta_final) * math.exp(-1. * frame_idx / beta_decay)\n",
    "\n"
   ]
  },
  {
   "cell_type": "markdown",
   "metadata": {
    "id": "Bq_j3y5h0xIh"
   },
   "source": [
    "### display epsilon over training"
   ]
  },
  {
   "cell_type": "code",
   "execution_count": 6,
   "metadata": {
    "colab": {
     "base_uri": "https://localhost:8080/",
     "height": 296
    },
    "id": "CV4bmiM10uyW",
    "outputId": "311e2741-a325-4ed2-a01f-84cc8b7c8c0a"
   },
   "outputs": [
    {
     "data": {
      "text/plain": [
       "[<matplotlib.lines.Line2D at 0x7f0f1ef34730>]"
      ]
     },
     "execution_count": 6,
     "metadata": {},
     "output_type": "execute_result"
    },
    {
     "data": {
      "image/png": "[encoded data removed]",
      "text/plain": [
       "<Figure size 432x288 with 1 Axes>"
      ]
     },
     "metadata": {
      "needs_background": "light"
     },
     "output_type": "display_data"
    }
   ],
   "source": [
    "plt.plot([get_epsilon(i) for i in range(num_frames)])"
   ]
  },
  {
   "cell_type": "code",
   "execution_count": 7,
   "metadata": {},
   "outputs": [
    {
     "data": {
      "text/plain": [
       "[<matplotlib.lines.Line2D at 0x7f0f1e540910>]"
      ]
     },
     "execution_count": 7,
     "metadata": {},
     "output_type": "execute_result"
    },
    {
     "data": {
      "image/png": "[encoded data removed]",
      "text/plain": [
       "<Figure size 432x288 with 1 Axes>"
      ]
     },
     "metadata": {
      "needs_background": "light"
     },
     "output_type": "display_data"
    }
   ],
   "source": [
    "plt.plot([beta_by_frame(i) for i in range(num_frames)])"
   ]
  },
  {
   "cell_type": "code",
   "execution_count": 8,
   "metadata": {
    "id": "wVEFntTow1kr"
   },
   "outputs": [],
   "source": [
    "current_model = ConvDuelingDQN(env.action_space.n)\n",
    "target_model  = ConvDuelingDQN(env.action_space.n)\n",
    "\n",
    "if torch.cuda.is_available():\n",
    "    current_model = current_model.cuda()\n",
    "    target_model  = target_model.cuda()\n",
    "    \n",
    "optimizer = optim.Adam(current_model.parameters(), lr=0.00025,weight_decay=0.05)\n",
    "\n",
    "# model.load_state_dict(torch.load(cwd+\"/models/dqn_breakout_crop.pt\"))\n",
    "\n"
   ]
  },
  {
   "cell_type": "markdown",
   "metadata": {
    "id": "k9B72S7ZAPiQ"
   },
   "source": [
    "### Compute Loss"
   ]
  },
  {
   "cell_type": "code",
   "execution_count": 9,
   "metadata": {
    "id": "eskyEjwVAR08"
   },
   "outputs": [],
   "source": [
    "def compute_td_loss(batch_size, idx):\n",
    "    state, action, reward, next_state, done, weights, idxes  = replay_buffer.sample(batch_size,beta_by_frame(idx))\n",
    "\n",
    "    state      = torch.FloatTensor(np.float32(state)).to(device)\n",
    "    next_state = torch.FloatTensor(np.float32(next_state)).to(device)\n",
    "    action     = torch.LongTensor(action).to(device)\n",
    "    reward     = torch.FloatTensor(reward).to(device)\n",
    "    done       = torch.FloatTensor(done).to(device)\n",
    "\n",
    "    q_values      = current_model(state)\n",
    "    next_q_values = current_model(next_state)\n",
    "    next_q_state_values = target_model(next_state) \n",
    "\n",
    "    q_value          = q_values.gather(1, action.unsqueeze(1)).squeeze(1)\n",
    "    next_q_value = next_q_state_values.gather(1, torch.max(next_q_values, 1)[1].unsqueeze(1)).squeeze(1)\n",
    "    expected_q_value = reward + gamma * next_q_value  * (1 - done)\n",
    "    \n",
    "    \n",
    "    losses_td = (q_value - expected_q_value.data).pow(2)\n",
    "    \n",
    "    if frame_idx % 10000 == 0:\n",
    "        replay_buffer.update_priorities(idxes,np.array(losses_td.detach().cpu()))\n",
    "        \n",
    "        \n",
    "    loss = losses_td.mean()\n",
    "        \n",
    "    optimizer.zero_grad()\n",
    "    loss.backward()\n",
    "    optimizer.step()\n",
    "    \n",
    "    return loss"
   ]
  },
  {
   "cell_type": "code",
   "execution_count": 10,
   "metadata": {},
   "outputs": [],
   "source": [
    "def update_target(current_model, target_model):\n",
    "    target_model.load_state_dict(current_model.state_dict())\n",
    "    \n",
    "update_target(current_model, target_model)"
   ]
  },
  {
   "cell_type": "markdown",
   "metadata": {
    "id": "gic0yt6x1JS3"
   },
   "source": [
    "### plot function"
   ]
  },
  {
   "cell_type": "code",
   "execution_count": 11,
   "metadata": {
    "id": "eYV2OqFK1LAf"
   },
   "outputs": [],
   "source": [
    "from utils import moving_average\n",
    "\n",
    "def plot(frame_idx, rewards, losses):\n",
    "    clear_output(True)\n",
    "    plt.figure(figsize=(20,5))\n",
    "    plt.subplot(131)\n",
    "    plt.title('Frame: %s Avg.Reward: %s Epsilon: %s' % (frame_idx, np.mean(rewards[-100:]), get_epsilon(frame_idx) ))\n",
    "    plt.plot(rewards)\n",
    "    plt.subplot(132)\n",
    "    plt.title('loss')\n",
    "    plt.plot(losses)\n",
    "    plt.subplot(133)\n",
    "    plt.title('Frame Rewards')\n",
    "    plt.plot(moving_average(frame_rewards,1000))\n",
    "    plt.show()"
   ]
  },
  {
   "cell_type": "markdown",
   "metadata": {
    "id": "n3tE0WN3NZgF"
   },
   "source": [
    "### training"
   ]
  },
  {
   "cell_type": "code",
   "execution_count": 12,
   "metadata": {
    "colab": {
     "base_uri": "https://localhost:8080/",
     "height": 336
    },
    "id": "MiCjpQdkNbOA",
    "outputId": "205738be-3cd0-465f-a0f7-bb900ede5e3e"
   },
   "outputs": [
    {
     "data": {
      "image/png": "[encoded data removed]",
      "text/plain": [
       "<Figure size 1440x360 with 3 Axes>"
      ]
     },
     "metadata": {
      "needs_background": "light"
     },
     "output_type": "display_data"
    },
    {
     "name": "stdout",
     "output_type": "stream",
     "text": [
      "19.0\n"
     ]
    }
   ],
   "source": [
    "losses = []\n",
    "all_rewards = []\n",
    "frame_rewards = []\n",
    "episode_reward = 0\n",
    "episode_frame_count = 0\n",
    "\n",
    "\n",
    "state = env.reset()\n",
    "print(state.shape)\n",
    "# img = plt.imshow(env.render(mode='rgb_array'))\n",
    "\n",
    "frame_queue = [np.squeeze(np.array(state),axis = 0)]\n",
    "reward_queue = [0]\n",
    "for frame_idx in range(1, num_frames + 1):\n",
    "    \n",
    "    episode_frame_count += 1\n",
    "    \n",
    "    epsilon = get_epsilon(frame_idx)\n",
    "\n",
    "    if len(frame_queue)!=4:\n",
    "        action = random.choice(range(env.action_space.n))\n",
    "        next_state, reward, done, _ = env.step(action)\n",
    "        episode_reward += reward\n",
    "        frame_queue.append(np.squeeze(np.array(next_state),axis = 0))\n",
    "        reward_queue.append(episode_reward)\n",
    "    else:\n",
    "        state_4frames = np.array([frame_queue[0],frame_queue[1],frame_queue[2],frame_queue[3]])\n",
    "        if random.random() > epsilon:\n",
    "            action = current_model.eval(crop_breakout(state_4frames))\n",
    "        else:\n",
    "            action = random.randrange(env.action_space.n)\n",
    "        next_state, reward, done, _ = env.step(action)\n",
    "        episode_reward += reward\n",
    "        reward_4frames = max(reward_queue)\n",
    "        frame_queue.pop(0)\n",
    "        reward_queue.pop(0)\n",
    "        frame_queue.append(np.squeeze(np.array(next_state),axis = 0))\n",
    "        reward_queue.append(episode_reward)\n",
    "        next_state_4frames = np.array([frame_queue[0],frame_queue[1],frame_queue[2],frame_queue[3]])\n",
    "        replay_buffer.push(crop_breakout(state_4frames), action, reward_4frames, crop_breakout(next_state_4frames), done)\n",
    "        \n",
    "\n",
    "    state = next_state\n",
    "    # frame_rewards.append(reward)\n",
    "    \n",
    "    if done:\n",
    "        state = env.reset()\n",
    "        all_rewards.append(episode_reward)\n",
    "        for i in range(episode_frame_count):\n",
    "            frame_rewards.append(episode_reward)\n",
    "        episode_frame_count = 0\n",
    "        episode_reward = 0\n",
    "        frame_queue = [np.squeeze(np.array(state),axis = 0)]\n",
    "        reward_queue = [0]\n",
    "        \n",
    "        \n",
    "    if frame_idx >= replay_initial:\n",
    "        loss = compute_td_loss(batch_size,frame_idx)\n",
    "        losses.append(loss.item())\n",
    "        \n",
    "    if frame_idx % 10000 == 0:\n",
    "        plot(frame_idx, all_rewards, losses)\n",
    "        print(max(all_rewards))\n",
    "        \n",
    "    if frame_idx % 1000 == 0:\n",
    "        update_target(current_model, target_model)\n",
    "        \n",
    " \n",
    "    if frame_idx % 10000 == 0:\n",
    "        torch.save(current_model.state_dict(),cwd+\"/models/dqnall_breakout_crop.pt\")\n",
    "        np.save(cwd+\"/training_data/dqnall_breakout_crop_reward.npy\", np.array(all_rewards))\n",
    "        np.save(cwd+\"/training_data/dqnall_breakout_crop_frame_reward.npy\", np.array(frame_rewards))\n",
    "        np.save(cwd+\"/training_data/dqnall_breakout_crop_loss.npy\", np.array(losses))\n",
    "\n",
    "\n"
   ]
  },
  {
   "cell_type": "markdown",
   "metadata": {
    "id": "AJkgBGuNQUMd"
   },
   "source": [
    "### Save Model"
   ]
  },
  {
   "cell_type": "code",
   "execution_count": 13,
   "metadata": {
    "id": "UhUme5_sOYXK"
   },
   "outputs": [],
   "source": [
    "torch.save(current_model.state_dict(),cwd+\"/models/dqnper_breakout_crop.pt\")\n",
    "np.save(cwd+\"/training_data/dqnall_breakout_crop_reward.npy\", np.array(all_rewards))\n",
    "np.save(cwd+\"/training_data/dqnall_breakout_crop_frame_reward.npy\", np.array(frame_rewards))\n",
    "np.save(cwd+\"/training_data/dqnall_breakout_crop_loss.npy\", np.array(losses))"
   ]
  }
 ],
 "metadata": {
  "accelerator": "GPU",
  "colab": {
   "collapsed_sections": [],
   "name": "basicDQN.ipynb",
   "provenance": []
  },
  "kernelspec": {
   "display_name": "Python 3 (ipykernel)",
   "language": "python",
   "name": "python3"
  },
  "language_info": {
   "codemirror_mode": {
    "name": "ipython",
    "version": 3
   },
   "file_extension": ".py",
   "mimetype": "text/x-python",
   "name": "python",
   "nbconvert_exporter": "python",
   "pygments_lexer": "ipython3",
   "version": "3.8.10"
  }
 },
 "nbformat": 4,
 "nbformat_minor": 4
}
