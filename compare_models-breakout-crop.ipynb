{
 "cells": [
  {
   "cell_type": "markdown",
   "id": "3f9f562e-f7e5-40f9-9c08-7ec14d8f4415",
   "metadata": {},
   "source": [
    "# Compare Model Performance"
   ]
  },
  {
   "cell_type": "code",
   "execution_count": 1,
   "id": "2e633e04-3187-4d22-9aa6-b2fbd4fb68de",
   "metadata": {},
   "outputs": [],
   "source": [
    "%%capture\n",
    "import sys, os\n",
    "cwd = os.getcwd()\n",
    "os.chdir(cwd+\"/common\")\n",
    "!python3 -m atari_py.import_roms ../Roms"
   ]
  },
  {
   "cell_type": "code",
   "execution_count": 2,
   "id": "2ea8cddb-b683-4746-9813-1c46ddeace79",
   "metadata": {},
   "outputs": [
    {
     "name": "stderr",
     "output_type": "stream",
     "text": [
      "/home/zhanghao/.local/lib/python3.8/site-packages/ale_py/roms/__init__.py:94: DeprecationWarning: Automatic importing of atari-py roms won't be supported in future releases of ale-py. Please migrate over to using `ale-import-roms` OR an ALE-supported ROM package. To make this warning disappear you can run `ale-import-roms --import-from-pkg atari_py.atari_roms`.For more information see: https://github.com/mgbellemare/Arcade-Learning-Environment#rom-management\n",
      "  _RESOLVED_ROMS = _resolve_roms()\n"
     ]
    }
   ],
   "source": [
    "import torch\n",
    "import torch.nn as nn\n",
    "import torch.optim as optim\n",
    "import torch.autograd as autograd \n",
    "import torch.nn.functional as F\n",
    "import gym\n",
    "import numpy as np\n",
    "import math, random\n",
    "from wrappers import make_atari, wrap_deepmind, wrap_pytorch\n",
    "from model import CnnDQNCrop, ConvDuelingDQN\n",
    "import matplotlib.pyplot as plt\n",
    "from pyvirtualdisplay import Display\n",
    "display = Display(visible=0, size=(1400, 900))\n",
    "display.start()\n",
    "import time\n",
    "import matplotlib.pyplot as plt\n",
    "from utils import crop_breakout\n",
    "\n"
   ]
  },
  {
   "cell_type": "code",
   "execution_count": 3,
   "id": "b1ea7b06-d637-43b7-98a6-4a6af2c92771",
   "metadata": {},
   "outputs": [],
   "source": [
    "\n",
    "\n",
    "is_ipython = 'inline' in plt.get_backend()\n",
    "if is_ipython:\n",
    "    from IPython import display\n",
    "\n",
    "plt.ion()\n",
    "\n",
    "%matplotlib inline\n",
    "\n",
    "\n",
    "\n",
    "def test_model(path,model_type=\"dqn\"):\n",
    "    \n",
    "    env_id = \"Breakout-v4\"\n",
    "    env = wrap_deepmind(gym.make(env_id))\n",
    "    env = wrap_pytorch(env)\n",
    "    \n",
    "    \n",
    "    \n",
    "    if model_type == \"dqn\":\n",
    "        model = CnnDQNCrop(env.action_space.n)\n",
    "    else:\n",
    "        model = ConvDuelingDQN(env.action_space.n)\n",
    "    \n",
    "    if torch.cuda.is_available():\n",
    "        model = model.cuda()\n",
    "    model.load_state_dict(torch.load(path))\n",
    "\n",
    "    state = env.reset()\n",
    "    img = plt.imshow(env.render(mode='rgb_array'))\n",
    "\n",
    "    frame_queue = [np.squeeze(np.array(state),axis = 0)]\n",
    "    total_reward = 0\n",
    "    # img = plt.imshow(crop_breakout(np.array(frame_queue))[0])\n",
    "\n",
    "    for i in range(10000000):\n",
    "\n",
    "        if len(frame_queue)!=4:\n",
    "            action = random.choice(range(env.action_space.n))\n",
    "            next_state, reward, done, _ = env.step(action)\n",
    "            frame_queue.append(np.squeeze(np.array(next_state),axis = 0))\n",
    "        else:\n",
    "            state_4frames = np.array([frame_queue[0],frame_queue[1],frame_queue[2],frame_queue[3]])\n",
    "            action = model.act(crop_breakout(state_4frames),0)\n",
    "            next_state, reward, done, _ = env.step(action)\n",
    "            frame_queue.pop(0)\n",
    "            frame_queue.append(np.squeeze(np.array(next_state),axis = 0))\n",
    "\n",
    "        total_reward += reward\n",
    "\n",
    "\n",
    "        # img.set_data(crop_breakout(np.array(frame_queue))[0]) \n",
    "        img.set_data(env.render(mode='rgb_array')) \n",
    "        plt.axis('off')\n",
    "        display.display(plt.gcf())\n",
    "        display.clear_output(wait=True)\n",
    "        # state, reward, done, _ = env.step(action.cpu().item())\n",
    "        time.sleep(0.01)\n",
    "        if done:\n",
    "            print(\"Total Frames: \"+str(i))\n",
    "            print(\"Total Reward: \"+str(total_reward))\n",
    "            \n",
    "            break \n",
    "    \n",
    "    env.close()\n",
    "\n",
    "        \n"
   ]
  },
  {
   "cell_type": "markdown",
   "id": "81c1f3f8-ff3a-4b71-bb91-b35219c3b2c4",
   "metadata": {},
   "source": [
    "## Basic DQN"
   ]
  },
  {
   "cell_type": "code",
   "execution_count": 17,
   "id": "496068f2-ba25-4fb0-b7fe-0c44833b14fd",
   "metadata": {},
   "outputs": [
    {
     "name": "stdout",
     "output_type": "stream",
     "text": [
      "Total Frames: 613\n",
      "Total Reward: 13.0\n"
     ]
    },
    {
     "data": {
      "image/png": "[encoded data removed]",
      "text/plain": [
       "<Figure size 432x288 with 1 Axes>"
      ]
     },
     "metadata": {
      "needs_background": "light"
     },
     "output_type": "display_data"
    }
   ],
   "source": [
    "test_model(cwd+\"/models/dqn_breakout_crop.pt\")"
   ]
  },
  {
   "cell_type": "markdown",
   "id": "121a1e49-f670-446e-b3ee-08a5150a0f16",
   "metadata": {},
   "source": [
    "## DQND"
   ]
  },
  {
   "cell_type": "code",
   "execution_count": 25,
   "id": "467a8090-acd9-4596-a7d6-908103a08c2c",
   "metadata": {},
   "outputs": [
    {
     "name": "stdout",
     "output_type": "stream",
     "text": [
      "Total Frames: 206\n",
      "Total Reward: 4.0\n"
     ]
    },
    {
     "data": {
      "image/png": "[encoded data removed]",
      "text/plain": [
       "<Figure size 432x288 with 1 Axes>"
      ]
     },
     "metadata": {
      "needs_background": "light"
     },
     "output_type": "display_data"
    }
   ],
   "source": [
    "test_model(cwd+\"/models/dqnd_breakout_crop.pt\",\"dqnd\")"
   ]
  },
  {
   "cell_type": "markdown",
   "id": "dd08b36e-29b7-47ec-8bfd-72f6044e07db",
   "metadata": {},
   "source": [
    "## DDQN"
   ]
  },
  {
   "cell_type": "code",
   "execution_count": 6,
   "id": "7374eaea-2de3-4970-abee-4c74a69f8189",
   "metadata": {},
   "outputs": [
    {
     "ename": "RuntimeError",
     "evalue": "Error(s) in loading state_dict for CnnDQNCrop:\n\tMissing key(s) in state_dict: \"features.6.weight\", \"features.6.bias\". \n\tsize mismatch for features.0.weight: copying a param with shape torch.Size([32, 4, 8, 8]) from checkpoint, the shape in current model is torch.Size([128, 4, 3, 3]).\n\tsize mismatch for features.0.bias: copying a param with shape torch.Size([32]) from checkpoint, the shape in current model is torch.Size([128]).\n\tsize mismatch for features.2.weight: copying a param with shape torch.Size([64, 32, 4, 4]) from checkpoint, the shape in current model is torch.Size([64, 128, 3, 3]).\n\tsize mismatch for fc.0.weight: copying a param with shape torch.Size([512, 3136]) from checkpoint, the shape in current model is torch.Size([512, 2688]).",
     "output_type": "error",
     "traceback": [
      "\u001b[0;31m---------------------------------------------------------------------------\u001b[0m",
      "\u001b[0;31mRuntimeError\u001b[0m                              Traceback (most recent call last)",
      "Input \u001b[0;32mIn [6]\u001b[0m, in \u001b[0;36m<cell line: 1>\u001b[0;34m()\u001b[0m\n\u001b[0;32m----> 1\u001b[0m \u001b[43mtest_model\u001b[49m\u001b[43m(\u001b[49m\u001b[43mcwd\u001b[49m\u001b[38;5;241;43m+\u001b[39;49m\u001b[38;5;124;43m\"\u001b[39;49m\u001b[38;5;124;43m/models/ddqn.pt\u001b[39;49m\u001b[38;5;124;43m\"\u001b[39;49m\u001b[43m)\u001b[49m\n",
      "Input \u001b[0;32mIn [3]\u001b[0m, in \u001b[0;36mtest_model\u001b[0;34m(path, model_type)\u001b[0m\n\u001b[1;32m     24\u001b[0m \u001b[38;5;28;01mif\u001b[39;00m torch\u001b[38;5;241m.\u001b[39mcuda\u001b[38;5;241m.\u001b[39mis_available():\n\u001b[1;32m     25\u001b[0m     model \u001b[38;5;241m=\u001b[39m model\u001b[38;5;241m.\u001b[39mcuda()\n\u001b[0;32m---> 26\u001b[0m \u001b[43mmodel\u001b[49m\u001b[38;5;241;43m.\u001b[39;49m\u001b[43mload_state_dict\u001b[49m\u001b[43m(\u001b[49m\u001b[43mtorch\u001b[49m\u001b[38;5;241;43m.\u001b[39;49m\u001b[43mload\u001b[49m\u001b[43m(\u001b[49m\u001b[43mpath\u001b[49m\u001b[43m)\u001b[49m\u001b[43m)\u001b[49m\n\u001b[1;32m     28\u001b[0m state \u001b[38;5;241m=\u001b[39m env\u001b[38;5;241m.\u001b[39mreset()\n\u001b[1;32m     29\u001b[0m img \u001b[38;5;241m=\u001b[39m plt\u001b[38;5;241m.\u001b[39mimshow(env\u001b[38;5;241m.\u001b[39mrender(mode\u001b[38;5;241m=\u001b[39m\u001b[38;5;124m'\u001b[39m\u001b[38;5;124mrgb_array\u001b[39m\u001b[38;5;124m'\u001b[39m))\n",
      "File \u001b[0;32m~/.local/lib/python3.8/site-packages/torch/nn/modules/module.py:1497\u001b[0m, in \u001b[0;36mModule.load_state_dict\u001b[0;34m(self, state_dict, strict)\u001b[0m\n\u001b[1;32m   1492\u001b[0m         error_msgs\u001b[38;5;241m.\u001b[39minsert(\n\u001b[1;32m   1493\u001b[0m             \u001b[38;5;241m0\u001b[39m, \u001b[38;5;124m'\u001b[39m\u001b[38;5;124mMissing key(s) in state_dict: \u001b[39m\u001b[38;5;132;01m{}\u001b[39;00m\u001b[38;5;124m. \u001b[39m\u001b[38;5;124m'\u001b[39m\u001b[38;5;241m.\u001b[39mformat(\n\u001b[1;32m   1494\u001b[0m                 \u001b[38;5;124m'\u001b[39m\u001b[38;5;124m, \u001b[39m\u001b[38;5;124m'\u001b[39m\u001b[38;5;241m.\u001b[39mjoin(\u001b[38;5;124m'\u001b[39m\u001b[38;5;124m\"\u001b[39m\u001b[38;5;132;01m{}\u001b[39;00m\u001b[38;5;124m\"\u001b[39m\u001b[38;5;124m'\u001b[39m\u001b[38;5;241m.\u001b[39mformat(k) \u001b[38;5;28;01mfor\u001b[39;00m k \u001b[38;5;129;01min\u001b[39;00m missing_keys)))\n\u001b[1;32m   1496\u001b[0m \u001b[38;5;28;01mif\u001b[39;00m \u001b[38;5;28mlen\u001b[39m(error_msgs) \u001b[38;5;241m>\u001b[39m \u001b[38;5;241m0\u001b[39m:\n\u001b[0;32m-> 1497\u001b[0m     \u001b[38;5;28;01mraise\u001b[39;00m \u001b[38;5;167;01mRuntimeError\u001b[39;00m(\u001b[38;5;124m'\u001b[39m\u001b[38;5;124mError(s) in loading state_dict for \u001b[39m\u001b[38;5;132;01m{}\u001b[39;00m\u001b[38;5;124m:\u001b[39m\u001b[38;5;130;01m\\n\u001b[39;00m\u001b[38;5;130;01m\\t\u001b[39;00m\u001b[38;5;132;01m{}\u001b[39;00m\u001b[38;5;124m'\u001b[39m\u001b[38;5;241m.\u001b[39mformat(\n\u001b[1;32m   1498\u001b[0m                        \u001b[38;5;28mself\u001b[39m\u001b[38;5;241m.\u001b[39m\u001b[38;5;18m__class__\u001b[39m\u001b[38;5;241m.\u001b[39m\u001b[38;5;18m__name__\u001b[39m, \u001b[38;5;124m\"\u001b[39m\u001b[38;5;130;01m\\n\u001b[39;00m\u001b[38;5;130;01m\\t\u001b[39;00m\u001b[38;5;124m\"\u001b[39m\u001b[38;5;241m.\u001b[39mjoin(error_msgs)))\n\u001b[1;32m   1499\u001b[0m \u001b[38;5;28;01mreturn\u001b[39;00m _IncompatibleKeys(missing_keys, unexpected_keys)\n",
      "\u001b[0;31mRuntimeError\u001b[0m: Error(s) in loading state_dict for CnnDQNCrop:\n\tMissing key(s) in state_dict: \"features.6.weight\", \"features.6.bias\". \n\tsize mismatch for features.0.weight: copying a param with shape torch.Size([32, 4, 8, 8]) from checkpoint, the shape in current model is torch.Size([128, 4, 3, 3]).\n\tsize mismatch for features.0.bias: copying a param with shape torch.Size([32]) from checkpoint, the shape in current model is torch.Size([128]).\n\tsize mismatch for features.2.weight: copying a param with shape torch.Size([64, 32, 4, 4]) from checkpoint, the shape in current model is torch.Size([64, 128, 3, 3]).\n\tsize mismatch for fc.0.weight: copying a param with shape torch.Size([512, 3136]) from checkpoint, the shape in current model is torch.Size([512, 2688])."
     ]
    }
   ],
   "source": [
    "test_model(cwd+\"/models/ddqn.pt\")"
   ]
  },
  {
   "cell_type": "markdown",
   "id": "fa08561b-f13c-4042-b839-c94a2340299d",
   "metadata": {},
   "source": [
    "## Pioritized Replay Buffer"
   ]
  },
  {
   "cell_type": "code",
   "execution_count": null,
   "id": "ec0a7053-ac68-45a2-b858-5fed9c171b5b",
   "metadata": {},
   "outputs": [],
   "source": [
    "test_model(cwd+\"/models/dqn_per.pt\")"
   ]
  },
  {
   "cell_type": "markdown",
   "id": "a85ff23c-12db-4f15-ab65-47d12c066466",
   "metadata": {},
   "source": []
  }
 ],
 "metadata": {
  "kernelspec": {
   "display_name": "Python 3 (ipykernel)",
   "language": "python",
   "name": "python3"
  },
  "language_info": {
   "codemirror_mode": {
    "name": "ipython",
    "version": 3
   },
   "file_extension": ".py",
   "mimetype": "text/x-python",
   "name": "python",
   "nbconvert_exporter": "python",
   "pygments_lexer": "ipython3",
   "version": "3.8.10"
  }
 },
 "nbformat": 4,
 "nbformat_minor": 5
}
